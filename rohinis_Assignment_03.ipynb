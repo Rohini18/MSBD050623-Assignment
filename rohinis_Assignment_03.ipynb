{
  "nbformat": 4,
  "nbformat_minor": 0,
  "metadata": {
    "colab": {
      "provenance": [],
      "authorship_tag": "ABX9TyMSxomRYm8walybBizvIujY",
      "include_colab_link": true
    },
    "kernelspec": {
      "name": "python3",
      "display_name": "Python 3"
    },
    "language_info": {
      "name": "python"
    }
  },
  "cells": [
    {
      "cell_type": "markdown",
      "metadata": {
        "id": "view-in-github",
        "colab_type": "text"
      },
      "source": [
        "<a href=\"https://colab.research.google.com/github/Rohini18/MSPY080423-Assignment/blob/main/rohinis_Assignment_03.ipynb\" target=\"_parent\"><img src=\"https://colab.research.google.com/assets/colab-badge.svg\" alt=\"Open In Colab\"/></a>"
      ]
    },
    {
      "cell_type": "code",
      "execution_count": 5,
      "metadata": {
        "id": "o7nQw4Gsr39f",
        "colab": {
          "base_uri": "https://localhost:8080/"
        },
        "outputId": "1e5690bf-7345-49ca-e355-a398896116b5"
      },
      "outputs": [
        {
          "output_type": "stream",
          "name": "stdout",
          "text": [
            "20\n"
          ]
        }
      ],
      "source": [
        "# Problem 1:Game of \"Functions\"\n",
        "sum = 0\n",
        "list1 = (8, 2, 3, 0, 7)\n",
        " \n",
        "for ele in range(0, len(list1)):\n",
        "    sum = sum + list1[ele]\n",
        "print(sum)"
      ]
    },
    {
      "cell_type": "code",
      "source": [
        "# Problem 2: String inside the function\n",
        "\n",
        "def func(x):\n",
        "  return x[::-1]\n",
        "value=\"1234abcd\"\n",
        "key = func(value)\n",
        "print(key)"
      ],
      "metadata": {
        "colab": {
          "base_uri": "https://localhost:8080/"
        },
        "id": "vnm_RQQMgqZP",
        "outputId": "7fc49b31-34e0-4991-adbc-409e68dccfa2"
      },
      "execution_count": 9,
      "outputs": [
        {
          "output_type": "stream",
          "name": "stdout",
          "text": [
            "dcba4321\n"
          ]
        }
      ]
    },
    {
      "cell_type": "code",
      "source": [
        "#Problem 3 :Calculate the Upper and The lower Case\n",
        "value= 'The quick Brow Fox'\n",
        "count1=0\n",
        "count2=0\n",
        "for i in value:\n",
        "      if(i.islower()):\n",
        "            count1=count1+1\n",
        "      elif(i.isupper()):\n",
        "            count2=count2+1\n",
        "print(\"No. of lower case characters:\")\n",
        "print(count1)\n",
        "print(\"No. of Upper case characters:\")\n",
        "print(count2)"
      ],
      "metadata": {
        "colab": {
          "base_uri": "https://localhost:8080/"
        },
        "id": "swX2Caikhqft",
        "outputId": "80ac9c9f-1c76-4207-8675-2a3b8381c300"
      },
      "execution_count": 11,
      "outputs": [
        {
          "output_type": "stream",
          "name": "stdout",
          "text": [
            "No. of lower case characters:\n",
            "12\n",
            "No. of Upper case characters:\n",
            "3\n"
          ]
        }
      ]
    }
  ]
}