{
  "nbformat": 4,
  "nbformat_minor": 0,
  "metadata": {
    "colab": {
      "provenance": []
    },
    "kernelspec": {
      "name": "python3",
      "display_name": "Python 3"
    },
    "language_info": {
      "name": "python"
    }
  },
  "cells": [
    {
      "cell_type": "markdown",
      "source": [
        "Problem statement1"
      ],
      "metadata": {
        "id": "k_Hrc4li8Ink"
      }
    },
    {
      "cell_type": "code",
      "source": [
        "SELECT\n",
        "    id,\n",
        "    tenure,\n",
        "    designation,\n",
        "    salary,\n",
        "    CASE\n",
        "        WHEN tenure < 2 THEN 20\n",
        "        WHEN tenure >= 2 AND tenure <= 10 THEN 30\n",
        "        WHEN tenure > 10 THEN 40\n",
        "    END AS extra_vacation\n",
        "FROM\n",
        "    employees;"
      ],
      "metadata": {
        "id": "j4Df1LGd8L-t"
      },
      "execution_count": null,
      "outputs": []
    },
    {
      "cell_type": "markdown",
      "source": [
        "Problem statement 2\n"
      ],
      "metadata": {
        "id": "pjKV08FR8pA1"
      }
    },
    {
      "cell_type": "code",
      "source": [
        "CREATE TABLE temperature (\n",
        "    id INT PRIMARY KEY,\n",
        "    date DATE,\n",
        "    location STRING,\n",
        "    temperature_celsius DECIMAL(5, 2)\n",
        ");\n",
        "\n",
        "SELECT State, MAX(Temperature) AS MaxTemperature\n",
        "FROM temperature\n",
        "GROUP BY State;"
      ],
      "metadata": {
        "id": "Fbfu940H8qyj"
      },
      "execution_count": null,
      "outputs": []
    },
    {
      "cell_type": "markdown",
      "source": [
        "Problem statement 3"
      ],
      "metadata": {
        "id": "Q5NdAKdB9moT"
      }
    },
    {
      "cell_type": "code",
      "source": [
        "CREATE TABLE student_marks (\n",
        "    Name STRING,\n",
        "    Marks MAP<STRING, INT>\n",
        ");\n",
        "\n",
        "1. SELECT Name\n",
        "FROM student_marks\n",
        "WHERE Marks['Maths'] > 90;\n",
        "\n",
        "2.SELECT Name, Marks['Physics'] AS PhysicsMarks\n",
        "FROM student_marks;\n",
        "\n",
        "3.SELECT Name, GREATEST(Marks['Maths'], Marks['Physics']) AS MaxSubjectMarks\n",
        "FROM student_marks;\n",
        "\n",
        "4.SELECT Name,\n",
        "    (Marks['Maths'] + Marks['Physics']) / 2.0 AS AverageMarks\n",
        "FROM student_marks;\n",
        "\n",
        "5.SELECT Name,\n",
        "    ((Marks['Maths'] + Marks['Physics']) / 200) * 100 AS PercentageMarks\n",
        "FROM student_marks;"
      ],
      "metadata": {
        "id": "wr4Jk3iF9o68"
      },
      "execution_count": null,
      "outputs": []
    },
    {
      "cell_type": "markdown",
      "source": [
        "Problem statement 4\n"
      ],
      "metadata": {
        "id": "ZAw65psy9_FY"
      }
    },
    {
      "cell_type": "code",
      "source": [
        "CREATE TABLE student_info (\n",
        "    Name STRING,\n",
        "    Marks MAP<STRING, INT>,\n",
        "    Address STRUCT<doorNo INT, Location STRING, Pincode INT>\n",
        ");\n",
        "\n",
        "1.SELECT Name\n",
        "FROM student_info\n",
        "WHERE Address.Location = 'Banashankari';\n",
        "\n",
        "2.SELECT COUNT(*) AS TotalCount\n",
        "FROM student_info\n",
        "WHERE Address.Pincode = 560001;"
      ],
      "metadata": {
        "id": "dbEn-pTk-Bwr"
      },
      "execution_count": null,
      "outputs": []
    }
  ]
}