{
  "nbformat": 4,
  "nbformat_minor": 0,
  "metadata": {
    "colab": {
      "provenance": []
    },
    "kernelspec": {
      "name": "python3",
      "display_name": "Python 3"
    },
    "language_info": {
      "name": "python"
    }
  },
  "cells": [
    {
      "cell_type": "code",
      "source": [
        "from pyspark.sql import SparkSession\n",
        "from pyspark.sql.functions import explode, col\n",
        "\n",
        "spark = SparkSession.builder.appName(\"FilterPhn\").getOrCreate()\n",
        "data_path = \"file:///content/user_03.json\"\n",
        "df = spark.read.json(data_path)\n",
        "\n",
        "# Explode the 'phoneNumbers' array\n",
        "df_exploded = df.select(\"firstName\", \"lastName\", explode(col(\"phoneNumbers\")).alias(\"phone\"))\n",
        "\n",
        "# Filter and display phone numbers with type 'office'\n",
        "filtered_phone_numbers = df_exploded.filter(col(\"phone.type\") == \"office\").select(\"firstName\", \"lastName\", \"phone.number\")\n",
        "num=filtered_phone_numbers.show(truncate=False)\n",
        "\n",
        "print(num)\n",
        "spark.stop()"
      ],
      "metadata": {
        "colab": {
          "base_uri": "https://localhost:8080/"
        },
        "outputId": "7ba5d298-a697-4cb6-f6d1-065abddc09db",
        "id": "6bdOiVhU8SXO"
      },
      "execution_count": null,
      "outputs": [
        {
          "output_type": "stream",
          "name": "stdout",
          "text": [
            "+---------+--------+------------+\n",
            "|firstName|lastName|number      |\n",
            "+---------+--------+------------+\n",
            "|John     |Smith   |646 555-4567|\n",
            "|John1    |Smith   |646 555-4567|\n",
            "+---------+--------+------------+\n",
            "\n",
            "None\n"
          ]
        }
      ]
    }
  ]
}