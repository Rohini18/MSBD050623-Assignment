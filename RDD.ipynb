{
  "nbformat": 4,
  "nbformat_minor": 0,
  "metadata": {
    "colab": {
      "provenance": []
    },
    "kernelspec": {
      "name": "python3",
      "display_name": "Python 3"
    },
    "language_info": {
      "name": "python"
    }
  },
  "cells": [
    {
      "cell_type": "code",
      "source": [
        "import os\n",
        "os.environ[\"SPARK_HOME\"] = \"/content/spark-3.0.0-bin-hadoop2.7\"\n",
        "import findspark\n",
        "findspark.init()"
      ],
      "metadata": {
        "id": "KCgmpsXOwun7"
      },
      "execution_count": 2,
      "outputs": []
    },
    {
      "cell_type": "code",
      "source": [
        "from pyspark.sql import SparkSession\n",
        "spark = SparkSession.builder.master(\"local\").appName(\"RDD\").getOrCreate()\n",
        "sc = spark.sparkContext\n",
        "\n",
        "data = [\"C\", \"Programming\", \"C++\", \"Java\", \"Scala\", \"Python\"]\n",
        "rdd = sc.parallelize(data)\n",
        "\n",
        "filtered_rdd = rdd.filter(lambda x: len(x) > 5)\n",
        "filtered_elements = filtered_rdd.collect()\n",
        "\n",
        "# Print the filtered elements\n",
        "for element in filtered_elements:\n",
        "    print(element)\n",
        "\n",
        "for element in reversed(filtered_elements):\n",
        "    print(element)\n",
        "\n",
        "sc.stop()"
      ],
      "metadata": {
        "colab": {
          "base_uri": "https://localhost:8080/"
        },
        "id": "ryFfwozjw1Um",
        "outputId": "91f5887d-2672-44d0-9645-6144684393e7"
      },
      "execution_count": 8,
      "outputs": [
        {
          "output_type": "stream",
          "name": "stdout",
          "text": [
            "Programming\n",
            "Python\n",
            "Python\n",
            "Programming\n"
          ]
        }
      ]
    },
    {
      "cell_type": "code",
      "source": [
        "from pyspark.sql import SparkSession\n",
        "\n",
        "# Initialize Spark session\n",
        "spark = SparkSession.builder.appName(\"RDDTransformation\").getOrCreate()\n",
        "\n",
        "# Generate an RDD of multiples of 1024 (kilobytes)\n",
        "kilobytes_rdd = spark.sparkContext.parallelize(range(1, 20)).map(lambda x: x * 1024)\n",
        "\n",
        "# Convert each element to its respective MB\n",
        "megabytes_rdd = kilobytes_rdd.map(lambda x: x / 1024.0)\n",
        "\n",
        "# Filter elements greater than 10 MB\n",
        "filtered_rdd = megabytes_rdd.filter(lambda x: x > 10)\n",
        "\n",
        "# Apply transformation to convert MB to GB\n",
        "gigabytes_rdd = filtered_rdd.map(lambda x: x / 1024.0)\n",
        "\n",
        "# Print results\n",
        "print(\"Megabytes:\")\n",
        "for element in megabytes_rdd.collect():\n",
        "  print(element)\n",
        "\n",
        "print(\"Filtered elements (greater than 10 MB):\")\n",
        "for element in filtered_rdd.collect():\n",
        "  print(element)\n",
        "\n",
        "print(\"Gigabytes:\")\n",
        "for element in gigabytes_rdd.collect():\n",
        "  print(element)\n",
        "\n",
        "# Stop the Spark session\n",
        "spark.stop()\n"
      ],
      "metadata": {
        "colab": {
          "base_uri": "https://localhost:8080/"
        },
        "id": "DxL8oZvrw7_F",
        "outputId": "c78f3dcc-0069-4800-b7e2-c35d781711d6"
      },
      "execution_count": 7,
      "outputs": [
        {
          "output_type": "stream",
          "name": "stdout",
          "text": [
            "Megabytes:\n",
            "1.0\n",
            "2.0\n",
            "3.0\n",
            "4.0\n",
            "5.0\n",
            "6.0\n",
            "7.0\n",
            "8.0\n",
            "9.0\n",
            "10.0\n",
            "11.0\n",
            "12.0\n",
            "13.0\n",
            "14.0\n",
            "15.0\n",
            "16.0\n",
            "17.0\n",
            "18.0\n",
            "19.0\n",
            "Filtered elements (greater than 10 MB):\n",
            "11.0\n",
            "12.0\n",
            "13.0\n",
            "14.0\n",
            "15.0\n",
            "16.0\n",
            "17.0\n",
            "18.0\n",
            "19.0\n",
            "Gigabytes:\n",
            "0.0107421875\n",
            "0.01171875\n",
            "0.0126953125\n",
            "0.013671875\n",
            "0.0146484375\n",
            "0.015625\n",
            "0.0166015625\n",
            "0.017578125\n",
            "0.0185546875\n"
          ]
        }
      ]
    }
  ]
}