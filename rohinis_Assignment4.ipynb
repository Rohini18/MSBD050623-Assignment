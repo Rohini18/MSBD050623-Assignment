{
  "nbformat": 4,
  "nbformat_minor": 0,
  "metadata": {
    "colab": {
      "provenance": [],
      "authorship_tag": "ABX9TyO9zhOkqU5AT6DDZTMSmJCX",
      "include_colab_link": true
    },
    "kernelspec": {
      "name": "python3",
      "display_name": "Python 3"
    },
    "language_info": {
      "name": "python"
    }
  },
  "cells": [
    {
      "cell_type": "markdown",
      "metadata": {
        "id": "view-in-github",
        "colab_type": "text"
      },
      "source": [
        "<a href=\"https://colab.research.google.com/github/Rohini18/MSPY080423-Assignment/blob/main/rohinis_Assignment4.ipynb\" target=\"_parent\"><img src=\"https://colab.research.google.com/assets/colab-badge.svg\" alt=\"Open In Colab\"/></a>"
      ]
    },
    {
      "cell_type": "code",
      "execution_count": null,
      "metadata": {
        "id": "NjJEOQK7-MBR"
      },
      "outputs": [],
      "source": [
        "#Problem1:\n",
        "add_25 = lambda x: x + 25\n",
        "number = 10\n",
        "result = add_25(number)\n",
        "print(result) "
      ]
    },
    {
      "cell_type": "code",
      "source": [
        "#Problem 2:\n",
        "numbers = [1, 2, 3, 4, 5, 6, 7]\n",
        "tripled_numbers = list(map(lambda x: x * 3, numbers))\n",
        "print(\"Triple of list numbers:\",tripled_numbers)"
      ],
      "metadata": {
        "id": "veLo9wlF-adb"
      },
      "execution_count": null,
      "outputs": []
    },
    {
      "cell_type": "code",
      "source": [
        "#Problem3:\n",
        "numbers = [4, 5, 2, 9]\n",
        "\n",
        "squared_numbers = list(map(lambda x: x ** 2, numbers))\n",
        "\n",
        "print(\"Square the elements of the list:\",squared_numbers)"
      ],
      "metadata": {
        "id": "_rHGAh7Q-wSJ"
      },
      "execution_count": null,
      "outputs": []
    }
  ]
}