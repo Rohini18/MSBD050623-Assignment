{
  "nbformat": 4,
  "nbformat_minor": 0,
  "metadata": {
    "colab": {
      "provenance": [],
      "authorship_tag": "ABX9TyPShGRocM5UVDKQ8ld/TX0n",
      "include_colab_link": true
    },
    "kernelspec": {
      "name": "python3",
      "display_name": "Python 3"
    },
    "language_info": {
      "name": "python"
    }
  },
  "cells": [
    {
      "cell_type": "markdown",
      "metadata": {
        "id": "view-in-github",
        "colab_type": "text"
      },
      "source": [
        "<a href=\"https://colab.research.google.com/github/Rohini18/MSPY080423-Assignment/blob/main/rohinis_Assignment5.ipynb\" target=\"_parent\"><img src=\"https://colab.research.google.com/assets/colab-badge.svg\" alt=\"Open In Colab\"/></a>"
      ]
    },
    {
      "cell_type": "code",
      "execution_count": 2,
      "metadata": {
        "colab": {
          "base_uri": "https://localhost:8080/"
        },
        "id": "Fv2ANeVjtxoI",
        "outputId": "0b12db26-2f61-4740-99e0-ce418bcbb224"
      },
      "outputs": [
        {
          "output_type": "stream",
          "name": "stdout",
          "text": [
            "35\n"
          ]
        }
      ],
      "source": [
        "#Challenge1\n",
        "class Point:\n",
        "    def __init__(self, x, y, z):\n",
        "        self.x = x\n",
        "        self.y = y\n",
        "        self.z = z\n",
        "\n",
        "    def sqSum(self):\n",
        "        return self.x ** 2 + self.y ** 2 + self.z ** 2\n",
        "\n",
        "point = Point(1, 3, 5)\n",
        "print(point.sqSum())  \n"
      ]
    },
    {
      "cell_type": "code",
      "source": [
        "#Challenge 2:\n",
        "class Calculator:\n",
        "    def __init__(self, num1, num2):\n",
        "        self.num1 = num1\n",
        "        self.num2 = num2\n",
        "\n",
        "    def add(self):\n",
        "        return self.num1 + self.num2\n",
        "\n",
        "    def subtract(self):\n",
        "        return self.num2 - self.num1\n",
        "\n",
        "    def multiply(self):\n",
        "        return self.num1 * self.num2\n",
        "\n",
        "    def divide(self):\n",
        "        return self.num2 / self.num1\n",
        "\n",
        "obj = Calculator(10, 94)\n",
        "print(obj.add())      \n",
        "print(obj.subtract()) \n",
        "print(obj.multiply()) \n",
        "print(obj.divide())   "
      ],
      "metadata": {
        "id": "Lizpk0UHuNqD"
      },
      "execution_count": null,
      "outputs": []
    },
    {
      "cell_type": "code",
      "source": [
        "# Challenge 3:\n",
        "\n",
        "class Student:\n",
        "    def __init__(self):\n",
        "        self.__name = None\n",
        "        self.__rollNumber = None\n",
        "\n",
        "    def setName(self, name):\n",
        "        self.__name = name\n",
        "    def getName(self):\n",
        "        return self.__name\n",
        "    def setRollNumber(self, rollNumber):\n",
        "        self.__rollNumber = rollNumber\n",
        "    def getRollNumber(self):\n",
        "        return self.__rollNumber\n",
        "\n",
        "\n",
        "student = Student()\n",
        "student.setName(\"Rohini\")\n",
        "student.setRollNumber(123)\n",
        "\n",
        "print(student.getName())        \n",
        "print(student.getRollNumber())  \n"
      ],
      "metadata": {
        "id": "nLkKMS5ruEV-"
      },
      "execution_count": null,
      "outputs": []
    },
    {
      "cell_type": "code",
      "source": [
        "#Challenge 4:\n",
        "class Account:\n",
        "    def __init__(self, title, balance):\n",
        "        self.title = title\n",
        "        self.balance = balance\n",
        "\n",
        "class SavingsAccount(Account):\n",
        "    def __init__(self, title, balance, interestRate):\n",
        "        super().__init__(title, balance)\n",
        "        self.interestRate = interestRate\n",
        "\n",
        "account = Account(\"Ashish\", 5000)\n",
        "print(account.title)   \n",
        "print(account.balance)  \n",
        "\n",
        "savingsAccount = SavingsAccount(\"Ashish\", 5000, 5)\n",
        "print(savingsAccount.title)          \n",
        "print(savingsAccount.balance)        \n",
        "print(savingsAccount.interestRate)   \n"
      ],
      "metadata": {
        "id": "8ZCXa-euv0jd"
      },
      "execution_count": null,
      "outputs": []
    },
    {
      "cell_type": "code",
      "source": [
        "#Challenge 5:\n",
        "class Account:\n",
        "    def __init__(self, title, balance):\n",
        "        self.title = title\n",
        "        self.balance = balance\n",
        "\n",
        "    def getBalance(self):\n",
        "        return self.balance\n",
        "\n",
        "    def deposit(self, amount):\n",
        "        self.balance += amount\n",
        "\n",
        "    def withdrawal(self, amount):\n",
        "        self.balance -= amount\n",
        "\n",
        "\n",
        "class SavingsAccount(Account):\n",
        "    def __init__(self, title=None, balance=0, interestRate=0):\n",
        "        super().__init__(title, balance)\n",
        "        self.interestRate = interestRate\n",
        "\n",
        "    def interestAmount(self):\n",
        "        return self.balance * (self.interestRate / 100)\n",
        "\n",
        "demo1 = SavingsAccount(\"Ashish\", 2000, 5)\n",
        "print(demo1.interestAmount())  \n"
      ],
      "metadata": {
        "id": "NMxmCtjSxNeq"
      },
      "execution_count": null,
      "outputs": []
    },
    {
      "cell_type": "code",
      "source": [],
      "metadata": {
        "id": "U1qJx0-5x2Ji"
      },
      "execution_count": null,
      "outputs": []
    }
  ]
}