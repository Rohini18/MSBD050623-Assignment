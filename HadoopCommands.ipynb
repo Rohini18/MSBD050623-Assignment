{
  "nbformat": 4,
  "nbformat_minor": 0,
  "metadata": {
    "colab": {
      "provenance": []
    },
    "kernelspec": {
      "name": "python3",
      "display_name": "Python 3"
    },
    "language_info": {
      "name": "python"
    }
  },
  "cells": [
    {
      "cell_type": "markdown",
      "source": [
        "Problem statement 1"
      ],
      "metadata": {
        "id": "MU3VuHtPDeCZ"
      }
    },
    {
      "cell_type": "code",
      "execution_count": null,
      "metadata": {
        "id": "32FMbIBMC_CK"
      },
      "outputs": [],
      "source": [
        "hdfs dfs -mkdir /user/$USER/dir01\n",
        "hdfs dfs -put input1.txt /user/$USER/dir01\n",
        "hdfs dfs -put input2.txt /user/$USER/dir01\n",
        "hdfs dfs -put input3.txt /user/$USER/dir01\n",
        "\n",
        "hdfs dfs -ls /user/$USER/dir01\n",
        "\n",
        "hdfs dfs -setrep 5 /user/$USER/dir01\n",
        "hdfs dfs -ls /user/$USER/dir01\n",
        "\n",
        "\n",
        "hdfs dfs -mkdir /scenario01\n",
        "hdfs dfs -mkdir /scenario01/level01\n",
        "hdfs dfs -mkdir /scenario01/level01/level02\n",
        "\n",
        "hdfs dfs -copyFromLocal /path/to/input1.txt /scenario01/\n",
        "hdfs dfs -copyFromLocal /path/to/input2.txt /scenario01/level01/\n",
        "hdfs dfs -copyFromLocal /path/to/input3.txt /scenario01/level01/level02/\n",
        "\n",
        "hdfs dfs -ls /scenario01\n"
      ]
    },
    {
      "cell_type": "markdown",
      "source": [
        "Problem statement 2\n"
      ],
      "metadata": {
        "id": "SMxAicqSDcE3"
      }
    },
    {
      "cell_type": "code",
      "source": [
        "yarn jar hadoop-mapreduce-examples-3.0.0.cdh6.2.1.jar wordcount /scenario01/ /user/$USER/rohini_output\n",
        "yarn application -list\n",
        "hdfs dfs -cat /user/$USER/rohini_output\n",
        "\n",
        "\n",
        "yarn jar hadoop-mapreduce-examples-3.0.0.cdh6.2.1.jar wordcount /scenario01/ /user/$USER/rohini_output\n",
        "yarn application -list\n",
        "yarn application -kill application_123456789_0001\n",
        "\n",
        "----Running applications\n",
        "yarn application -list | grep \"RUNNING\"\n",
        "\n",
        "yarn logs -applicationId application_123456789_0001\n",
        "\n",
        "\n",
        "\n"
      ],
      "metadata": {
        "id": "P7raKWH9FVZs"
      },
      "execution_count": null,
      "outputs": []
    }
  ]
}