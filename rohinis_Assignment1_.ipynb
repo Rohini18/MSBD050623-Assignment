{
  "nbformat": 4,
  "nbformat_minor": 0,
  "metadata": {
    "colab": {
      "provenance": [],
      "toc_visible": true,
      "authorship_tag": "ABX9TyO6n5BMEoc3moPxZWdxGZMo",
      "include_colab_link": true
    },
    "kernelspec": {
      "name": "python3",
      "display_name": "Python 3"
    },
    "language_info": {
      "name": "python"
    }
  },
  "cells": [
    {
      "cell_type": "markdown",
      "metadata": {
        "id": "view-in-github",
        "colab_type": "text"
      },
      "source": [
        "<a href=\"https://colab.research.google.com/github/Rohini18/MSPY080423-Assignment/blob/main/rohinis_Assignment1_.ipynb\" target=\"_parent\"><img src=\"https://colab.research.google.com/assets/colab-badge.svg\" alt=\"Open In Colab\"/></a>"
      ]
    },
    {
      "cell_type": "code",
      "execution_count": null,
      "metadata": {
        "colab": {
          "base_uri": "https://localhost:8080/"
        },
        "id": "2TuMRfl5FDVG",
        "outputId": "0ed065a6-bed6-4c55-ccef-6e7e6fd63f87"
      },
      "outputs": [
        {
          "output_type": "stream",
          "name": "stdout",
          "text": [
            "Enter any number5\n",
            "Fuzz\n"
          ]
        }
      ],
      "source": [
        "#M1A01\n",
        "number= eval(input(\"Enter any number\"))\n",
        "if number%3==0 and number%5==0:\n",
        "    print('Fizz Buzz')\n",
        "elif number%5==0:\n",
        "    print(\"Fuzz\")\n",
        "elif number%3==0:\n",
        "    print(\"Fizz\")"
      ]
    },
    {
      "cell_type": "code",
      "source": [
        "#M1A02\n",
        "trans=input('log_message=')\n",
        "D,W=0,0\n",
        "deb=trans.split()\n",
        "for x in deb:\n",
        "    if(x.startswith('D')):\n",
        "        D+=int(x.split(':')[1])\n",
        "    elif(x.startswith('W')):\n",
        "        W+=int(x.split(':')[1])\n",
        "final=D-W\n",
        "print(final)\n"
      ],
      "metadata": {
        "id": "LntLslvxk1Xo"
      },
      "execution_count": null,
      "outputs": []
    },
    {
      "cell_type": "code",
      "source": [
        "#M1A03\n",
        "calls=int(input('Enter calls'))\n",
        "money=0\n",
        "if calls<100:\n",
        "    money+=200\n",
        "elif calls>100 and calls<150:\n",
        "    money+=200\n",
        "    money+=(calls-100)*0.60\n",
        "elif calls>150 and calls>200:\n",
        "    money+=200+(50*0.60)\n",
        "    money+=(calls-150)*0.50\n",
        "elif calls>200:\n",
        "    money+=200+(50*0.60)+(50*0.50)\n",
        "    money+=(calls-200)*0.40\n",
        "print(money)"
      ],
      "metadata": {
        "id": "3VhBp-BXlBMi"
      },
      "execution_count": null,
      "outputs": []
    }
  ]
}